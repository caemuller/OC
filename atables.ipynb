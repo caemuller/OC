{
 "cells": [
  {
   "cell_type": "code",
   "execution_count": 19,
   "metadata": {},
   "outputs": [
    {
     "name": "stdout",
     "output_type": "stream",
     "text": [
      "\\begin{tabular}{lllrrrrrrr}\n",
      "\\toprule\n",
      "filename & type & status & best_value & time & time_limit & seed & max_iterations & num_iterations & bound \\\\\n",
      "\\midrule\n",
      "01.txt & linear & OPTIMAL & 1034999.000000 & 15.180000 & 300.000000 & 6 & 0 & 15824 & 1035012.000000 \\\\\n",
      "02.txt & linear & OPTIMAL & 11984785.000000 & 93.050000 & 300.000000 & 6 & 0 & 59662 & 11984804.000000 \\\\\n",
      "03.txt & linear & TIME_LIMIT & 45800019.000000 & 327.900000 & 300.000000 & 6 & 0 & 244373 & 66283519.000000 \\\\\n",
      "04.txt & linear & TIME_LIMIT & -inf & 320.200000 & 300.000000 & 6 & 0 & 119829 & 34394010.000000 \\\\\n",
      "05.txt & linear & TIME_LIMIT & 7745998.000000 & 321.050000 & 300.000000 & 6 & 0 & 120643 & 8202061.000000 \\\\\n",
      "06.txt & linear & TIME_LIMIT & -inf & 371.500000 & 300.000000 & 6 & 0 & 233451 & 32217206.000000 \\\\\n",
      "07.txt & linear & TIME_LIMIT & -inf & 300.330000 & 300.000000 & 6 & 0 & 204226 & 292598474.000000 \\\\\n",
      "08.txt & linear & TIME_LIMIT & 42658407.000000 & 300.200000 & 300.000000 & 6 & 0 & 118235 & 42668260.000000 \\\\\n",
      "09.txt & linear & OPTIMAL & 8461953.000000 & 244.570000 & 300.000000 & 6 & 0 & 124426 & 8461955.000000 \\\\\n",
      "10.txt & linear & TIME_LIMIT & -inf & 300.260000 & 300.000000 & 6 & 0 & 237181 & 55563662.000000 \\\\\n",
      "\\bottomrule\n",
      "\\end{tabular}\n",
      "\n"
     ]
    }
   ],
   "source": [
    "import numpy as np\n",
    "import pandas as pd\n",
    "\n",
    "import re\n",
    "\n",
    "# open file\n",
    "with open(\"resultados_linear_300.0s_.csv\", \"r\") as f:\n",
    "    lines = f.readlines()\n",
    "    # remove all values between brackets\n",
    "    lines = [re.sub(r'\\[.*\\]', '', line) for line in lines]\n",
    "    # remove all spaces\n",
    "    # lines = [re.sub(r'\\s+', '', line) for line in lines]\n",
    "\n",
    "# write to new file\n",
    "with open(\"resultados_linear_300.0s.csv\", \"w\") as f:\n",
    "    f.writelines(lines)\n",
    "\n",
    "df = pd.read_csv(\"resultados_linear_300.0s.csv\")\n",
    "df.columns = df.columns.str.replace(' ', '')\n",
    "df = df.replace(' ', '', regex=True)\n",
    "\n",
    "# drop solucoes column\n",
    "df = df.drop('best_solution', axis=1)\n",
    "\n",
    "# print df as latex table\n",
    "print(df.to_latex(index=False))"
   ]
  },
  {
   "cell_type": "code",
   "execution_count": 3,
   "metadata": {},
   "outputs": [
    {
     "name": "stdout",
     "output_type": "stream",
     "text": [
      "\\begin{tabular}{lllrrrrrrr}\n",
      "\\toprule\n",
      "filename & type & status & best_value & time & time_limit & seed & max_iterations & num_iterations & bound \\\\\n",
      "\\midrule\n",
      "01.txt & grasp_optimized & time_limit & 1034809 & 300.000000 & 300.000000 & 6 & 100000 & 64821 & 0 \\\\\n",
      "02.txt & grasp_optimized & time_limit & 11983213 & 300.000000 & 300.000000 & 6 & 100000 & 65442 & 0 \\\\\n",
      "03.txt & grasp_optimized & time_limit & 45898177 & 300.000000 & 300.000000 & 6 & 100000 & 30548 & 0 \\\\\n",
      "04.txt & grasp_optimized & time_limit & 34172895 & 300.000000 & 300.000000 & 6 & 100000 & 28860 & 0 \\\\\n",
      "05.txt & grasp_optimized & time_limit & 8197571 & 300.040000 & 300.000000 & 6 & 100000 & 2007 & 0 \\\\\n",
      "06.txt & grasp_optimized & time_limit & 29737000 & 300.010000 & 300.000000 & 6 & 100000 & 1358 & 0 \\\\\n",
      "07.txt & grasp_optimized & time_limit & 206863654 & 300.000000 & 300.000000 & 6 & 100000 & 62964 & 0 \\\\\n",
      "08.txt & grasp_optimized & time_limit & 42644514 & 300.000000 & 300.000000 & 6 & 100000 & 64543 & 0 \\\\\n",
      "09.txt & grasp_optimized & time_limit & 8450559 & 300.010000 & 300.000000 & 6 & 100000 & 6329 & 0 \\\\\n",
      "10.txt & grasp_optimized & time_limit & 48332953 & 300.020000 & 300.000000 & 6 & 100000 & 5398 & 0 \\\\\n",
      "\\bottomrule\n",
      "\\end{tabular}\n",
      "\n"
     ]
    }
   ],
   "source": [
    "import numpy as np\n",
    "import pandas as pd\n",
    "\n",
    "import re\n",
    "\n",
    "# open file\n",
    "with open(\"inf05010_2024-2_B_TP_Grupo-3/tests/resultados_grasp_optimized_300.0s_100000i_.csv\", \"r\") as f:\n",
    "    lines = f.readlines()\n",
    "    # remove all values between brackets\n",
    "    lines = [re.sub(r'\\[.*\\]', '', line) for line in lines]\n",
    "    # remove all spaces\n",
    "    # lines = [re.sub(r'\\s+', '', line) for line in lines]\n",
    "\n",
    "# write to new file\n",
    "with open(\"resultados_linear_300.0s.csv\", \"w\") as f:\n",
    "    f.writelines(lines)\n",
    "\n",
    "df = pd.read_csv(\"resultados_linear_300.0s.csv\")\n",
    "df.columns = df.columns.str.replace(' ', '')\n",
    "df = df.replace(' ', '', regex=True)\n",
    "\n",
    "# drop solucoes column\n",
    "df = df.drop('best_solution', axis=1)\n",
    "\n",
    "# print df as latex table\n",
    "print(df.to_latex(index=False))"
   ]
  },
  {
   "cell_type": "code",
   "execution_count": 4,
   "metadata": {},
   "outputs": [
    {
     "name": "stdout",
     "output_type": "stream",
     "text": [
      "\\begin{tabular}{lllrrrrrrr}\n",
      "\\toprule\n",
      "filename & type & status & best_value & time & time_limit & seed & max_iterations & num_iterations & bound \\\\\n",
      "\\midrule\n",
      "01.txt & grasp_optimized & time_limit & 1034413 & 5.000000 & 5.000000 & 6 & 100000 & 841 & 0 \\\\\n",
      "02.txt & grasp_optimized & time_limit & 11976398 & 5.000000 & 5.000000 & 6 & 100000 & 979 & 0 \\\\\n",
      "03.txt & grasp_optimized & time_limit & 45898177 & 5.000000 & 5.000000 & 6 & 100000 & 447 & 0 \\\\\n",
      "04.txt & grasp_optimized & time_limit & 34169225 & 5.010000 & 5.000000 & 6 & 100000 & 455 & 0 \\\\\n",
      "05.txt & grasp_optimized & time_limit & 8196666 & 5.070000 & 5.000000 & 6 & 100000 & 31 & 0 \\\\\n",
      "06.txt & grasp_optimized & time_limit & 29724723 & 5.160000 & 5.000000 & 6 & 100000 & 22 & 0 \\\\\n",
      "07.txt & grasp_optimized & time_limit & 206796746 & 5.010000 & 5.000000 & 6 & 100000 & 956 & 0 \\\\\n",
      "08.txt & grasp_optimized & time_limit & 42627558 & 5.000000 & 5.000000 & 6 & 100000 & 973 & 0 \\\\\n",
      "09.txt & grasp_optimized & time_limit & 8443590 & 5.030000 & 5.000000 & 6 & 100000 & 96 & 0 \\\\\n",
      "10.txt & grasp_optimized & time_limit & 48326460 & 5.020000 & 5.000000 & 6 & 100000 & 85 & 0 \\\\\n",
      "\\bottomrule\n",
      "\\end{tabular}\n",
      "\n"
     ]
    }
   ],
   "source": [
    "import numpy as np\n",
    "import pandas as pd\n",
    "\n",
    "import re\n",
    "\n",
    "# open file\n",
    "with open(\"inf05010_2024-2_B_TP_Grupo-3/tests/resultados_grasp_optimized_5.0s_100000i_.csv\", \"r\") as f:\n",
    "    lines = f.readlines()\n",
    "    # remove all values between brackets\n",
    "    lines = [re.sub(r'\\[.*\\]', '', line) for line in lines]\n",
    "    # remove all spaces\n",
    "    # lines = [re.sub(r'\\s+', '', line) for line in lines]\n",
    "\n",
    "# write to new file\n",
    "with open(\"resultados_linear_300.0s.csv\", \"w\") as f:\n",
    "    f.writelines(lines)\n",
    "\n",
    "df = pd.read_csv(\"resultados_linear_300.0s.csv\")\n",
    "df.columns = df.columns.str.replace(' ', '')\n",
    "df = df.replace(' ', '', regex=True)\n",
    "\n",
    "# drop solucoes column\n",
    "df = df.drop('best_solution', axis=1)\n",
    "\n",
    "# print df as latex table\n",
    "print(df.to_latex(index=False))"
   ]
  }
 ],
 "metadata": {
  "kernelspec": {
   "display_name": "base",
   "language": "python",
   "name": "python3"
  },
  "language_info": {
   "codemirror_mode": {
    "name": "ipython",
    "version": 3
   },
   "file_extension": ".py",
   "mimetype": "text/x-python",
   "name": "python",
   "nbconvert_exporter": "python",
   "pygments_lexer": "ipython3",
   "version": "3.11.5"
  }
 },
 "nbformat": 4,
 "nbformat_minor": 2
}
