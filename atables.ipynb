{
 "cells": [
  {
   "cell_type": "code",
   "execution_count": 19,
   "metadata": {},
   "outputs": [
    {
     "name": "stdout",
     "output_type": "stream",
     "text": [
      "\\begin{tabular}{lllrrrrrrr}\n",
      "\\toprule\n",
      "filename & type & status & best_value & time & time_limit & seed & max_iterations & num_iterations & bound \\\\\n",
      "\\midrule\n",
      "01.txt & linear & OPTIMAL & 1034999.000000 & 15.180000 & 300.000000 & 6 & 0 & 15824 & 1035012.000000 \\\\\n",
      "02.txt & linear & OPTIMAL & 11984785.000000 & 93.050000 & 300.000000 & 6 & 0 & 59662 & 11984804.000000 \\\\\n",
      "03.txt & linear & TIME_LIMIT & 45800019.000000 & 327.900000 & 300.000000 & 6 & 0 & 244373 & 66283519.000000 \\\\\n",
      "04.txt & linear & TIME_LIMIT & -inf & 320.200000 & 300.000000 & 6 & 0 & 119829 & 34394010.000000 \\\\\n",
      "05.txt & linear & TIME_LIMIT & 7745998.000000 & 321.050000 & 300.000000 & 6 & 0 & 120643 & 8202061.000000 \\\\\n",
      "06.txt & linear & TIME_LIMIT & -inf & 371.500000 & 300.000000 & 6 & 0 & 233451 & 32217206.000000 \\\\\n",
      "07.txt & linear & TIME_LIMIT & -inf & 300.330000 & 300.000000 & 6 & 0 & 204226 & 292598474.000000 \\\\\n",
      "08.txt & linear & TIME_LIMIT & 42658407.000000 & 300.200000 & 300.000000 & 6 & 0 & 118235 & 42668260.000000 \\\\\n",
      "09.txt & linear & OPTIMAL & 8461953.000000 & 244.570000 & 300.000000 & 6 & 0 & 124426 & 8461955.000000 \\\\\n",
      "10.txt & linear & TIME_LIMIT & -inf & 300.260000 & 300.000000 & 6 & 0 & 237181 & 55563662.000000 \\\\\n",
      "\\bottomrule\n",
      "\\end{tabular}\n",
      "\n"
     ]
    }
   ],
   "source": [
    "import numpy as np\n",
    "import pandas as pd\n",
    "\n",
    "import re\n",
    "\n",
    "# open file\n",
    "with open(\"resultados_linear_300.0s_.csv\", \"r\") as f:\n",
    "    lines = f.readlines()\n",
    "    # remove all values between brackets\n",
    "    lines = [re.sub(r'\\[.*\\]', '', line) for line in lines]\n",
    "    # remove all spaces\n",
    "    # lines = [re.sub(r'\\s+', '', line) for line in lines]\n",
    "\n",
    "# write to new file\n",
    "with open(\"resultados_linear_300.0s.csv\", \"w\") as f:\n",
    "    f.writelines(lines)\n",
    "\n",
    "df = pd.read_csv(\"resultados_linear_300.0s.csv\")\n",
    "df.columns = df.columns.str.replace(' ', '')\n",
    "df = df.replace(' ', '', regex=True)\n",
    "\n",
    "# drop solucoes column\n",
    "df = df.drop('best_solution', axis=1)\n",
    "\n",
    "# print df as latex table\n",
    "print(df.to_latex(index=False))"
   ]
  },
  {
   "cell_type": "code",
   "execution_count": null,
   "metadata": {},
   "outputs": [],
   "source": []
  }
 ],
 "metadata": {
  "kernelspec": {
   "display_name": "base",
   "language": "python",
   "name": "python3"
  },
  "language_info": {
   "codemirror_mode": {
    "name": "ipython",
    "version": 3
   },
   "file_extension": ".py",
   "mimetype": "text/x-python",
   "name": "python",
   "nbconvert_exporter": "python",
   "pygments_lexer": "ipython3",
   "version": "3.11.5"
  }
 },
 "nbformat": 4,
 "nbformat_minor": 2
}
